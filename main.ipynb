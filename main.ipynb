{
  "cells": [
    {
      "cell_type": "code",
      "execution_count": 2,
      "metadata": {
        "id": "QuVQiucyKiE8"
      },
      "outputs": [
        {
          "name": "stderr",
          "output_type": "stream",
          "text": [
            "2023-04-24 07:59:29.732768: I tensorflow/core/platform/cpu_feature_guard.cc:193] This TensorFlow binary is optimized with oneAPI Deep Neural Network Library (oneDNN) to use the following CPU instructions in performance-critical operations:  AVX2 FMA\n",
            "To enable them in other operations, rebuild TensorFlow with the appropriate compiler flags.\n",
            "2023-04-24 07:59:30.081457: W tensorflow/compiler/xla/stream_executor/platform/default/dso_loader.cc:64] Could not load dynamic library 'libcudart.so.11.0'; dlerror: libcudart.so.11.0: cannot open shared object file: No such file or directory\n",
            "2023-04-24 07:59:30.081479: I tensorflow/compiler/xla/stream_executor/cuda/cudart_stub.cc:29] Ignore above cudart dlerror if you do not have a GPU set up on your machine.\n",
            "2023-04-24 07:59:31.239859: W tensorflow/compiler/xla/stream_executor/platform/default/dso_loader.cc:64] Could not load dynamic library 'libnvinfer.so.7'; dlerror: libnvinfer.so.7: cannot open shared object file: No such file or directory\n",
            "2023-04-24 07:59:31.239938: W tensorflow/compiler/xla/stream_executor/platform/default/dso_loader.cc:64] Could not load dynamic library 'libnvinfer_plugin.so.7'; dlerror: libnvinfer_plugin.so.7: cannot open shared object file: No such file or directory\n",
            "2023-04-24 07:59:31.239943: W tensorflow/compiler/tf2tensorrt/utils/py_utils.cc:38] TF-TRT Warning: Cannot dlopen some TensorRT libraries. If you would like to use Nvidia GPU with TensorRT, please make sure the missing libraries mentioned above are installed properly.\n"
          ]
        }
      ],
      "source": [
        "import pandas as pd\n",
        "import matplotlib\n",
        "import matplotlib.pyplot as plt\n",
        "from helpers import dataframe, graphing, models as helpers_models\n",
        "from tensorflow import keras\n",
        "import numpy as np\n",
        "from keras import layers, models\n",
        "from keras.callbacks import EarlyStopping"
      ]
    },
    {
      "attachments": {},
      "cell_type": "markdown",
      "metadata": {},
      "source": [
        "#### Data preprocessing"
      ]
    },
    {
      "cell_type": "code",
      "execution_count": 3,
      "metadata": {
        "id": "9SB5MHDHKiE-"
      },
      "outputs": [],
      "source": [
        "base_url = \"https://raw.githubusercontent.com/italha-d/Stress-Predict-Dataset/main/Raw_data\"\n",
        "\n",
        "subjects = [\n",
        "    \"S01\", \"S02\", \"S03\", \"S04\", \"S05\", \"S06\", \"S07\", \"S08\", \"S09\", \"S10\",\n",
        "    # \"S11\", \"S12\", \"S13\", \"S14\", \"S15\", \"S16\", \"S17\", \"S18\", \"S19\", \"S20\",\n",
        "    # \"S21\", \"S22\", \"S23\", \"S24\", \"S25\", \"S26\", \"S27\", \"S28\", \"S29\", \"S30\",\n",
        "    # \"S31\", \"S32\", \"S33\", \"S34\", \"S35\"\n",
        "]\n",
        "\n",
        "fetch_objects = dataframe.generate_fetch_objects(base_url, subjects)"
      ]
    },
    {
      "cell_type": "code",
      "execution_count": 4,
      "metadata": {
        "colab": {
          "base_uri": "https://localhost:8080/"
        },
        "id": "MjV0Fep9KiE_",
        "outputId": "26b43af5-957f-4c18-c2f1-933b7007ddc5"
      },
      "outputs": [
        {
          "name": "stdout",
          "output_type": "stream",
          "text": [
            "Fetching HR.csv for subject S01\n",
            "Fetching ACC.csv for subject S01\n",
            "Fetching BVP.csv for subject S01\n",
            "Fetching EDA.csv for subject S01\n",
            "Fetching TEMP.csv for subject S01\n",
            "Fetching HR.csv for subject S02\n",
            "Fetching ACC.csv for subject S02\n",
            "Fetching BVP.csv for subject S02\n",
            "Fetching EDA.csv for subject S02\n",
            "Fetching TEMP.csv for subject S02\n",
            "Fetching HR.csv for subject S03\n",
            "Fetching ACC.csv for subject S03\n",
            "Fetching BVP.csv for subject S03\n",
            "Fetching EDA.csv for subject S03\n",
            "Fetching TEMP.csv for subject S03\n",
            "Fetching HR.csv for subject S04\n",
            "Fetching ACC.csv for subject S04\n",
            "Fetching BVP.csv for subject S04\n",
            "Fetching EDA.csv for subject S04\n",
            "Fetching TEMP.csv for subject S04\n",
            "Fetching HR.csv for subject S05\n",
            "Fetching ACC.csv for subject S05\n",
            "Fetching BVP.csv for subject S05\n",
            "Fetching EDA.csv for subject S05\n",
            "Fetching TEMP.csv for subject S05\n",
            "Fetching HR.csv for subject S06\n",
            "Fetching ACC.csv for subject S06\n",
            "Fetching BVP.csv for subject S06\n",
            "Fetching EDA.csv for subject S06\n",
            "Fetching TEMP.csv for subject S06\n",
            "Fetching HR.csv for subject S07\n",
            "Fetching ACC.csv for subject S07\n",
            "Fetching BVP.csv for subject S07\n",
            "Fetching EDA.csv for subject S07\n",
            "Fetching TEMP.csv for subject S07\n",
            "Fetching HR.csv for subject S08\n",
            "Fetching ACC.csv for subject S08\n",
            "Fetching BVP.csv for subject S08\n",
            "Fetching EDA.csv for subject S08\n",
            "Fetching TEMP.csv for subject S08\n",
            "Fetching HR.csv for subject S09\n",
            "Fetching ACC.csv for subject S09\n",
            "Fetching BVP.csv for subject S09\n",
            "Fetching EDA.csv for subject S09\n",
            "Fetching TEMP.csv for subject S09\n",
            "Fetching HR.csv for subject S10\n",
            "Fetching ACC.csv for subject S10\n",
            "Fetching BVP.csv for subject S10\n",
            "Fetching EDA.csv for subject S10\n",
            "Fetching TEMP.csv for subject S10\n"
          ]
        }
      ],
      "source": [
        "acc_df, hr_df, eda_df, temp_df, bvp_df = dataframe.concatenate_dataframe_from_fetch_objects(fetch_objects)\n",
        "\n",
        "df = dataframe.combine_dataframe(acc_df, hr_df, eda_df, temp_df, bvp_df)\n",
        "\n",
        "df = dataframe.fill_missing_values(df)"
      ]
    },
    {
      "cell_type": "code",
      "execution_count": 5,
      "metadata": {
        "id": "njpnQmU1KiFA"
      },
      "outputs": [],
      "source": [
        "tags_object = dataframe.generate_tag_objects(base_url, subjects)\n",
        "\n",
        "timestamps = dataframe.fetch_timestamps_from_tag_objects(tags_object)\n",
        "\n",
        "df = dataframe.label_dataframe_from_timestamps(df, timestamps)"
      ]
    },
    {
      "attachments": {},
      "cell_type": "markdown",
      "metadata": {
        "id": "vY7FDS53KiFH"
      },
      "source": [
        "#### Initial exploration\n",
        "\n",
        "In this section, models are tried out for an idea of how well they work on the dataset"
      ]
    },
    {
      "cell_type": "code",
      "execution_count": 6,
      "metadata": {
        "colab": {
          "base_uri": "https://localhost:8080/",
          "height": 455
        },
        "id": "Mdqrmhn0KiFI",
        "outputId": "8aa910f7-f599-4d89-bf85-60e8e807535f"
      },
      "outputs": [
        {
          "data": {
            "text/html": [
              "<div>\n",
              "<style scoped>\n",
              "    .dataframe tbody tr th:only-of-type {\n",
              "        vertical-align: middle;\n",
              "    }\n",
              "\n",
              "    .dataframe tbody tr th {\n",
              "        vertical-align: top;\n",
              "    }\n",
              "\n",
              "    .dataframe thead th {\n",
              "        text-align: right;\n",
              "    }\n",
              "</style>\n",
              "<table border=\"1\" class=\"dataframe\">\n",
              "  <thead>\n",
              "    <tr style=\"text-align: right;\">\n",
              "      <th></th>\n",
              "      <th></th>\n",
              "      <th>X</th>\n",
              "      <th>Y</th>\n",
              "      <th>Z</th>\n",
              "      <th>HR</th>\n",
              "      <th>EDA</th>\n",
              "      <th>TEMP</th>\n",
              "      <th>BVP</th>\n",
              "      <th>Label</th>\n",
              "    </tr>\n",
              "    <tr>\n",
              "      <th>Subject</th>\n",
              "      <th>Timestamp</th>\n",
              "      <th></th>\n",
              "      <th></th>\n",
              "      <th></th>\n",
              "      <th></th>\n",
              "      <th></th>\n",
              "      <th></th>\n",
              "      <th></th>\n",
              "      <th></th>\n",
              "    </tr>\n",
              "  </thead>\n",
              "  <tbody>\n",
              "    <tr>\n",
              "      <th rowspan=\"5\" valign=\"top\">1.0</th>\n",
              "      <th>1.644226e+12</th>\n",
              "      <td>-2.0</td>\n",
              "      <td>43.0</td>\n",
              "      <td>43.0</td>\n",
              "      <td>83.00</td>\n",
              "      <td>0.000000</td>\n",
              "      <td>28.39</td>\n",
              "      <td>0.00</td>\n",
              "      <td>0.0</td>\n",
              "    </tr>\n",
              "    <tr>\n",
              "      <th>1.644226e+12</th>\n",
              "      <td>-2.0</td>\n",
              "      <td>44.0</td>\n",
              "      <td>46.0</td>\n",
              "      <td>83.00</td>\n",
              "      <td>0.000000</td>\n",
              "      <td>28.39</td>\n",
              "      <td>0.00</td>\n",
              "      <td>0.0</td>\n",
              "    </tr>\n",
              "    <tr>\n",
              "      <th>1.644226e+12</th>\n",
              "      <td>2.0</td>\n",
              "      <td>44.0</td>\n",
              "      <td>47.0</td>\n",
              "      <td>83.00</td>\n",
              "      <td>0.000000</td>\n",
              "      <td>28.39</td>\n",
              "      <td>0.00</td>\n",
              "      <td>0.0</td>\n",
              "    </tr>\n",
              "    <tr>\n",
              "      <th>1.644226e+12</th>\n",
              "      <td>3.0</td>\n",
              "      <td>43.0</td>\n",
              "      <td>44.0</td>\n",
              "      <td>83.00</td>\n",
              "      <td>0.000000</td>\n",
              "      <td>28.39</td>\n",
              "      <td>0.00</td>\n",
              "      <td>0.0</td>\n",
              "    </tr>\n",
              "    <tr>\n",
              "      <th>1.644226e+12</th>\n",
              "      <td>1.0</td>\n",
              "      <td>43.0</td>\n",
              "      <td>45.0</td>\n",
              "      <td>83.00</td>\n",
              "      <td>0.000000</td>\n",
              "      <td>28.39</td>\n",
              "      <td>0.00</td>\n",
              "      <td>0.0</td>\n",
              "    </tr>\n",
              "    <tr>\n",
              "      <th>...</th>\n",
              "      <th>...</th>\n",
              "      <td>...</td>\n",
              "      <td>...</td>\n",
              "      <td>...</td>\n",
              "      <td>...</td>\n",
              "      <td>...</td>\n",
              "      <td>...</td>\n",
              "      <td>...</td>\n",
              "      <td>...</td>\n",
              "    </tr>\n",
              "    <tr>\n",
              "      <th rowspan=\"5\" valign=\"top\">10.0</th>\n",
              "      <th>1.644847e+12</th>\n",
              "      <td>3.0</td>\n",
              "      <td>-3.0</td>\n",
              "      <td>63.0</td>\n",
              "      <td>76.53</td>\n",
              "      <td>0.306487</td>\n",
              "      <td>26.89</td>\n",
              "      <td>-115.03</td>\n",
              "      <td>0.0</td>\n",
              "    </tr>\n",
              "    <tr>\n",
              "      <th>1.644847e+12</th>\n",
              "      <td>3.0</td>\n",
              "      <td>-3.0</td>\n",
              "      <td>63.0</td>\n",
              "      <td>76.53</td>\n",
              "      <td>0.306487</td>\n",
              "      <td>26.89</td>\n",
              "      <td>-129.06</td>\n",
              "      <td>0.0</td>\n",
              "    </tr>\n",
              "    <tr>\n",
              "      <th>1.644847e+12</th>\n",
              "      <td>3.0</td>\n",
              "      <td>-3.0</td>\n",
              "      <td>63.0</td>\n",
              "      <td>76.53</td>\n",
              "      <td>0.306487</td>\n",
              "      <td>26.89</td>\n",
              "      <td>-144.23</td>\n",
              "      <td>0.0</td>\n",
              "    </tr>\n",
              "    <tr>\n",
              "      <th>1.644847e+12</th>\n",
              "      <td>3.0</td>\n",
              "      <td>-3.0</td>\n",
              "      <td>63.0</td>\n",
              "      <td>76.53</td>\n",
              "      <td>0.306487</td>\n",
              "      <td>26.89</td>\n",
              "      <td>-155.62</td>\n",
              "      <td>0.0</td>\n",
              "    </tr>\n",
              "    <tr>\n",
              "      <th>1.644847e+12</th>\n",
              "      <td>3.0</td>\n",
              "      <td>-3.0</td>\n",
              "      <td>63.0</td>\n",
              "      <td>76.53</td>\n",
              "      <td>0.306487</td>\n",
              "      <td>26.89</td>\n",
              "      <td>-158.14</td>\n",
              "      <td>0.0</td>\n",
              "    </tr>\n",
              "  </tbody>\n",
              "</table>\n",
              "<p>2113911 rows × 8 columns</p>\n",
              "</div>"
            ],
            "text/plain": [
              "                        X     Y     Z     HR       EDA   TEMP     BVP  Label\n",
              "Subject Timestamp                                                           \n",
              "1.0     1.644226e+12 -2.0  43.0  43.0  83.00  0.000000  28.39    0.00    0.0\n",
              "        1.644226e+12 -2.0  44.0  46.0  83.00  0.000000  28.39    0.00    0.0\n",
              "        1.644226e+12  2.0  44.0  47.0  83.00  0.000000  28.39    0.00    0.0\n",
              "        1.644226e+12  3.0  43.0  44.0  83.00  0.000000  28.39    0.00    0.0\n",
              "        1.644226e+12  1.0  43.0  45.0  83.00  0.000000  28.39    0.00    0.0\n",
              "...                   ...   ...   ...    ...       ...    ...     ...    ...\n",
              "10.0    1.644847e+12  3.0  -3.0  63.0  76.53  0.306487  26.89 -115.03    0.0\n",
              "        1.644847e+12  3.0  -3.0  63.0  76.53  0.306487  26.89 -129.06    0.0\n",
              "        1.644847e+12  3.0  -3.0  63.0  76.53  0.306487  26.89 -144.23    0.0\n",
              "        1.644847e+12  3.0  -3.0  63.0  76.53  0.306487  26.89 -155.62    0.0\n",
              "        1.644847e+12  3.0  -3.0  63.0  76.53  0.306487  26.89 -158.14    0.0\n",
              "\n",
              "[2113911 rows x 8 columns]"
            ]
          },
          "execution_count": 6,
          "metadata": {},
          "output_type": "execute_result"
        }
      ],
      "source": [
        "# Set index to Subject and Timestamp. This will be used to split the data into train and test sets by subject.\n",
        "new_df = df.set_index(['Subject', 'Timestamp'])\n",
        "\n",
        "new_df"
      ]
    },
    {
      "attachments": {},
      "cell_type": "markdown",
      "metadata": {},
      "source": [
        "##### Logistic Regression"
      ]
    },
    {
      "cell_type": "code",
      "execution_count": 7,
      "metadata": {
        "id": "Vaaa1v7bKiFI"
      },
      "outputs": [],
      "source": [
        "from sklearn.model_selection import train_test_split\n",
        "\n",
        "# Split the data into train and test sets by subject.\n",
        "train_subjects, test_subjects = train_test_split(new_df.index.get_level_values('Subject').unique(), test_size=0.2)"
      ]
    },
    {
      "cell_type": "code",
      "execution_count": 8,
      "metadata": {
        "colab": {
          "base_uri": "https://localhost:8080/"
        },
        "id": "IcLKB9jUKiFI",
        "outputId": "683589b6-39de-425e-b672-82d6600de431"
      },
      "outputs": [
        {
          "name": "stdout",
          "output_type": "stream",
          "text": [
            "Logistic Regression Accuracy: 0.7843830873992993\n"
          ]
        }
      ],
      "source": [
        "from sklearn.linear_model import LogisticRegression\n",
        "\n",
        "# Train a logistic regression model on the train set and evaluate it on the test set.\n",
        "logistic_regression_model = LogisticRegression()\n",
        "logistic_regression_model.fit(new_df.loc[train_subjects].drop('Label', axis=1), new_df.loc[train_subjects]['Label'])\n",
        "\n",
        "logsitic_regression_score = logistic_regression_model.score(new_df.loc[test_subjects].drop('Label', axis=1), new_df.loc[test_subjects]['Label'])\n",
        "\n",
        "print('Logistic Regression Accuracy:', logsitic_regression_score)"
      ]
    },
    {
      "attachments": {},
      "cell_type": "markdown",
      "metadata": {},
      "source": [
        "##### Basic LSTM"
      ]
    },
    {
      "cell_type": "code",
      "execution_count": null,
      "metadata": {
        "id": "kFaKfbYbKiFJ"
      },
      "outputs": [],
      "source": [
        "from keras.preprocessing.sequence import TimeseriesGenerator\n",
        "\n",
        "X_train = new_df.loc[train_subjects].drop('Label', axis=1).values\n",
        "y_train = new_df.loc[train_subjects]['Label'].values\n",
        "X_test = new_df.loc[test_subjects].drop('Label', axis=1).values\n",
        "y_test = new_df.loc[test_subjects]['Label'].values\n",
        "\n",
        "seq_length = 5\n",
        "batch_size = 32\n",
        "\n",
        "# Create a TimeseriesGenerator object for the train and test sets.\n",
        "# This is needed since the data is sequential. It can't be fed into the model like a normal dataset.\n",
        "train_seq = TimeseriesGenerator(X_train, y_train, length=seq_length, batch_size=batch_size)\n",
        "test_seq = TimeseriesGenerator(X_test, y_test, length=seq_length, batch_size=batch_size)"
      ]
    },
    {
      "cell_type": "code",
      "execution_count": 20,
      "metadata": {
        "colab": {
          "base_uri": "https://localhost:8080/"
        },
        "id": "lyZneQQkKiFK",
        "outputId": "a7ef53eb-4ac4-4eb2-ef0b-cf558302c233"
      },
      "outputs": [
        {
          "name": "stdout",
          "output_type": "stream",
          "text": [
            "Epoch 1/10\n",
            "52785/52785 [==============================] - 204s 4ms/step - loss: 0.3268 - accuracy: 0.8204 - val_loss: 0.5206 - val_accuracy: 0.7088\n",
            "Epoch 2/10\n",
            "52785/52785 [==============================] - 215s 4ms/step - loss: 0.3015 - accuracy: 0.8406 - val_loss: 0.5675 - val_accuracy: 0.7159\n",
            "Epoch 3/10\n",
            "52785/52785 [==============================] - 228s 4ms/step - loss: 0.2938 - accuracy: 0.8474 - val_loss: 0.4846 - val_accuracy: 0.7179\n",
            "Epoch 4/10\n",
            "52785/52785 [==============================] - 217s 4ms/step - loss: 0.2866 - accuracy: 0.8517 - val_loss: 0.5297 - val_accuracy: 0.7235\n",
            "Epoch 5/10\n",
            "52785/52785 [==============================] - 219s 4ms/step - loss: 0.2813 - accuracy: 0.8564 - val_loss: 0.4837 - val_accuracy: 0.7168\n",
            "Epoch 6/10\n",
            "52785/52785 [==============================] - 236s 4ms/step - loss: 0.2781 - accuracy: 0.8583 - val_loss: 0.4959 - val_accuracy: 0.7242\n",
            "Epoch 7/10\n",
            "52785/52785 [==============================] - 238s 5ms/step - loss: 0.2761 - accuracy: 0.8603 - val_loss: 0.4829 - val_accuracy: 0.7445\n",
            "Epoch 8/10\n",
            "52785/52785 [==============================] - 243s 5ms/step - loss: 0.2717 - accuracy: 0.8671 - val_loss: 0.5158 - val_accuracy: 0.7474\n",
            "Epoch 9/10\n",
            "52785/52785 [==============================] - 251s 5ms/step - loss: 0.2671 - accuracy: 0.8695 - val_loss: 0.4778 - val_accuracy: 0.7354\n",
            "Epoch 10/10\n",
            "52785/52785 [==============================] - 246s 5ms/step - loss: 0.2654 - accuracy: 0.8704 - val_loss: 0.4811 - val_accuracy: 0.7596\n"
          ]
        }
      ],
      "source": [
        "model = ml.create_basic_lstm_model((seq_length, X_train.shape[1]))\n",
        "\n",
        "early_stop = EarlyStopping(monitor='val_accuracy', patience=1)\n",
        "\n",
        "model_hist = model.fit(train_seq, validation_data=(test_seq), epochs=10, callbacks=[early_stop])"
      ]
    },
    {
      "cell_type": "code",
      "execution_count": 28,
      "metadata": {
        "colab": {
          "base_uri": "https://localhost:8080/",
          "height": 472
        },
        "id": "W9Qccstm6Vl9",
        "outputId": "89778cc4-4723-4860-a6c6-8a020e8ecc2d"
      },
      "outputs": [
        {
          "data": {
            "image/png": "[encoded data removed]",
            "text/plain": [
              "<Figure size 640x480 with 1 Axes>"
            ]
          },
          "metadata": {},
          "output_type": "display_data"
        }
      ],
      "source": [
        "graphing.plot_keras_model_logistic_regression_accuracy(\n",
        "    model_hist,\n",
        "    logsitic_regression_score,\n",
        "    ['LSTM Training Accuracy', 'LSTM Validation Accuracy', 'Logistic Regression Accuracy']\n",
        ")"
      ]
    },
    {
      "attachments": {},
      "cell_type": "markdown",
      "metadata": {},
      "source": [
        "##### Multi-layered LSTM"
      ]
    },
    {
      "cell_type": "code",
      "execution_count": 24,
      "metadata": {},
      "outputs": [
        {
          "name": "stdout",
          "output_type": "stream",
          "text": [
            "Epoch 1/10\n",
            "52785/52785 [==============================] - 411s 8ms/step - loss: 0.3174 - accuracy: 0.8317 - val_loss: 0.5300 - val_accuracy: 0.7191\n",
            "Epoch 2/10\n",
            "52785/52785 [==============================] - 345s 7ms/step - loss: 0.2859 - accuracy: 0.8567 - val_loss: 0.5150 - val_accuracy: 0.7284\n",
            "Epoch 3/10\n",
            "52785/52785 [==============================] - 432s 8ms/step - loss: 0.2684 - accuracy: 0.8698 - val_loss: 0.5281 - val_accuracy: 0.7371\n",
            "Epoch 4/10\n",
            "52785/52785 [==============================] - 438s 8ms/step - loss: 0.2561 - accuracy: 0.8786 - val_loss: 0.4817 - val_accuracy: 0.7469\n",
            "Epoch 5/10\n",
            "52785/52785 [==============================] - 402s 8ms/step - loss: 0.2486 - accuracy: 0.8834 - val_loss: 0.5512 - val_accuracy: 0.7301\n"
          ]
        }
      ],
      "source": [
        "lstm_dropout_model = ml.create_lstm_dropout_model((seq_length, X_train.shape[1]))\n",
        "\n",
        "early_stop = EarlyStopping(monitor='val_accuracy', patience=1)\n",
        "\n",
        "lstm_dropout_model_hist = lstm_dropout_model.fit(train_seq, validation_data=(test_seq), epochs=10, callbacks=[early_stop])"
      ]
    },
    {
      "cell_type": "code",
      "execution_count": 29,
      "metadata": {},
      "outputs": [
        {
          "data": {
            "image/png": "[encoded data removed]",
            "text/plain": [
              "<Figure size 640x480 with 1 Axes>"
            ]
          },
          "metadata": {},
          "output_type": "display_data"
        }
      ],
      "source": [
        "graphing.plot_keras_model_logistic_regression_accuracy(\n",
        "    lstm_dropout_model_hist,\n",
        "    logsitic_regression_score,\n",
        "    ['LSTM-Dropout Training Accuracy', 'LSTM-Dropout Validation Accuracy', 'Logistic Regression Accuracy'],\n",
        "    'lstm_dropout_log_reg.png'\n",
        ")"
      ]
    },
    {
      "cell_type": "markdown",
      "metadata": {
        "id": "s5ZBKODsrcMP"
      },
      "source": [
        "### Cross Validation"
      ]
    },
    {
      "attachments": {},
      "cell_type": "markdown",
      "metadata": {},
      "source": [
        "##### Logistic Regression"
      ]
    },
    {
      "cell_type": "code",
      "execution_count": 13,
      "metadata": {
        "colab": {
          "base_uri": "https://localhost:8080/",
          "height": 510
        },
        "id": "vY17K_UJ5fTx",
        "outputId": "3b1469cb-849c-42d6-c21a-aa79e0d8db6a"
      },
      "outputs": [
        {
          "name": "stdout",
          "output_type": "stream",
          "text": [
            "Fold 0\n",
            "Train Subjects: [0 1 2 3 4 5 7 9]\n",
            "Test Subjects: [6 8]\n",
            "Accuracy: 0.7168909151562326\n",
            "\n",
            "\n",
            "Fold 1\n",
            "Train Subjects: [0 2 4 5 6 7 8 9]\n",
            "Test Subjects: [1 3]\n",
            "Accuracy: 0.7503152525226139\n",
            "\n",
            "\n",
            "Fold 2\n",
            "Train Subjects: [0 1 2 3 5 6 8 9]\n",
            "Test Subjects: [4 7]\n",
            "Accuracy: 0.7881421568295387\n",
            "\n",
            "\n",
            "Fold 3\n",
            "Train Subjects: [1 3 4 5 6 7 8 9]\n",
            "Test Subjects: [0 2]\n",
            "Accuracy: 0.7118014164504592\n",
            "\n",
            "\n",
            "Fold 4\n",
            "Train Subjects: [0 1 2 3 4 6 7 8]\n",
            "Test Subjects: [5 9]\n",
            "Accuracy: 0.7161843339360479\n",
            "\n",
            "\n"
          ]
        }
      ],
      "source": [
        "logistic_regression_scores = ml.run_logistic_regression_kfold_cross_validation(df)"
      ]
    },
    {
      "cell_type": "code",
      "execution_count": 14,
      "metadata": {},
      "outputs": [
        {
          "name": "stdout",
          "output_type": "stream",
          "text": [
            "Average Accuracy: 0.7366668149789785\n"
          ]
        }
      ],
      "source": [
        "print('Average Accuracy: {}'.format(np.mean(logistic_regression_scores)))"
      ]
    },
    {
      "attachments": {},
      "cell_type": "markdown",
      "metadata": {},
      "source": [
        "##### Basic LSTM"
      ]
    },
    {
      "cell_type": "code",
      "execution_count": 35,
      "metadata": {
        "colab": {
          "base_uri": "https://localhost:8080/"
        },
        "id": "azN-BTh79Er1",
        "outputId": "3a19c269-56e6-424a-fef8-43fd65c1873c"
      },
      "outputs": [
        {
          "name": "stdout",
          "output_type": "stream",
          "text": [
            "Fold 0\n",
            "Train Subjects: [0 1 2 3 4 5 6 9]\n",
            "Test Subjects: [7 8]\n",
            "Epoch 1/4\n",
            "11734/11734 [==============================] - 97s 8ms/step - loss: 0.3557 - accuracy: 0.8090 - val_loss: 1.1241 - val_accuracy: 0.8072\n",
            "Epoch 2/4\n",
            "11734/11734 [==============================] - 125s 11ms/step - loss: 0.4029 - accuracy: 0.8014 - val_loss: 1.1240 - val_accuracy: 0.8072\n",
            "Epoch 3/4\n",
            "11734/11734 [==============================] - 141s 12ms/step - loss: 0.4029 - accuracy: 0.8014 - val_loss: 1.1240 - val_accuracy: 0.8072\n",
            "Epoch 4/4\n",
            "11734/11734 [==============================] - 140s 12ms/step - loss: 0.4029 - accuracy: 0.8014 - val_loss: 1.1240 - val_accuracy: 0.8072\n",
            "Fold 1\n",
            "Train Subjects: [0 1 4 5 6 7 8 9]\n",
            "Test Subjects: [2 3]\n",
            "Epoch 1/4\n",
            "11555/11555 [==============================] - 146s 12ms/step - loss: 0.3817 - accuracy: 0.7849 - val_loss: 1.3123 - val_accuracy: 0.7477\n",
            "Epoch 2/4\n",
            "11555/11555 [==============================] - 156s 14ms/step - loss: 0.4543 - accuracy: 0.7695 - val_loss: 1.3119 - val_accuracy: 0.7477\n",
            "Epoch 3/4\n",
            "11555/11555 [==============================] - 142s 12ms/step - loss: 0.4542 - accuracy: 0.7696 - val_loss: 1.3119 - val_accuracy: 0.7477\n",
            "Epoch 4/4\n",
            "11555/11555 [==============================] - 128s 11ms/step - loss: 0.4542 - accuracy: 0.7696 - val_loss: 1.3119 - val_accuracy: 0.7477\n",
            "Fold 2\n",
            "Train Subjects: [0 2 3 4 5 7 8 9]\n",
            "Test Subjects: [1 6]\n",
            "Epoch 1/4\n",
            "11706/11706 [==============================] - 140s 12ms/step - loss: 0.3923 - accuracy: 0.7830 - val_loss: 1.4992 - val_accuracy: 0.6946\n",
            "Epoch 2/4\n",
            "11706/11706 [==============================] - 128s 11ms/step - loss: 0.4822 - accuracy: 0.7681 - val_loss: 1.4989 - val_accuracy: 0.6946\n",
            "Epoch 3/4\n",
            "11706/11706 [==============================] - 145s 12ms/step - loss: 0.4821 - accuracy: 0.7681 - val_loss: 1.4989 - val_accuracy: 0.6946\n",
            "Epoch 4/4\n",
            "11706/11706 [==============================] - 147s 13ms/step - loss: 0.4821 - accuracy: 0.7681 - val_loss: 1.4989 - val_accuracy: 0.6946\n",
            "Fold 3\n",
            "Train Subjects: [1 2 3 4 6 7 8 9]\n",
            "Test Subjects: [0 5]\n",
            "Epoch 1/4\n",
            "13358/13358 [==============================] - 149s 11ms/step - loss: 0.3795 - accuracy: 0.7867 - val_loss: 1.1853 - val_accuracy: 0.7907\n",
            "Epoch 2/4\n",
            "13358/13358 [==============================] - 146s 11ms/step - loss: 0.4555 - accuracy: 0.7683 - val_loss: 1.1852 - val_accuracy: 0.7907\n",
            "Epoch 3/4\n",
            "13358/13358 [==============================] - 145s 11ms/step - loss: 0.4555 - accuracy: 0.7683 - val_loss: 1.1852 - val_accuracy: 0.7907\n",
            "Epoch 4/4\n",
            "13358/13358 [==============================] - 142s 11ms/step - loss: 0.4555 - accuracy: 0.7683 - val_loss: 1.1852 - val_accuracy: 0.7907\n",
            "Fold 4\n",
            "Train Subjects: [0 1 2 3 5 6 7 8]\n",
            "Test Subjects: [4 9]\n",
            "Epoch 1/4\n",
            "11634/11634 [==============================] - 133s 11ms/step - loss: 0.3630 - accuracy: 0.7968 - val_loss: 1.8230 - val_accuracy: 0.6863\n",
            "Epoch 2/4\n",
            "11634/11634 [==============================] - 132s 11ms/step - loss: 0.4066 - accuracy: 0.7937 - val_loss: 1.8228 - val_accuracy: 0.6863\n",
            "Epoch 3/4\n",
            "11634/11634 [==============================] - 134s 12ms/step - loss: 0.4066 - accuracy: 0.7938 - val_loss: 1.8228 - val_accuracy: 0.6863\n",
            "Epoch 4/4\n",
            "11634/11634 [==============================] - 133s 11ms/step - loss: 0.4066 - accuracy: 0.7938 - val_loss: 1.8228 - val_accuracy: 0.6863\n"
          ]
        }
      ],
      "source": [
        "from sklearn.model_selection import KFold\n",
        "\n",
        "n_folds = 5\n",
        "seq_length = 5\n",
        "\n",
        "trained_models = []\n",
        "model_scores = []\n",
        "\n",
        "subject_kfold = KFold(n_splits=n_folds, shuffle=True)\n",
        "\n",
        "for fold, (train_subjects, test_subjects) in enumerate(subject_kfold.split(df['Subject'].unique())):\n",
        "    print('Fold {}'.format(fold))\n",
        "    print('Train Subjects: {}'.format(train_subjects))\n",
        "    print('Test Subjects: {}'.format(test_subjects))\n",
        "\n",
        "    train_data = df[df['Subject'].isin(train_subjects)]\n",
        "    test_data = df[df['Subject'].isin(test_subjects)]\n",
        "\n",
        "    # Create a train_dataset from the timeseries util function.\n",
        "    # Timeseries datasets are needed since the data is sequential.\n",
        "    # Normal datasets can't be used as the model needs to know the sequence of the data.\n",
        "    train_dataset = keras.utils.timeseries_dataset_from_array(\n",
        "      train_data,\n",
        "      targets=train_data['Label'],\n",
        "      sampling_rate=1,\n",
        "      sequence_length=seq_length,\n",
        "    )\n",
        "\n",
        "    test_dataset = keras.utils.timeseries_dataset_from_array(\n",
        "      test_data,\n",
        "      targets=test_data['Label'],\n",
        "      sampling_rate=1,\n",
        "      sequence_length=seq_length,\n",
        "    )\n",
        "    \n",
        "    model = ml.create_basic_lstm_model((seq_length, len(df.columns)))\n",
        "\n",
        "    model_hist = model.fit(train_dataset, validation_data=(test_dataset), epochs=4)\n",
        "    trained_models.append(model_hist)\n"
      ]
    },
    {
      "cell_type": "code",
      "execution_count": 45,
      "metadata": {},
      "outputs": [
        {
          "name": "stdout",
          "output_type": "stream",
          "text": [
            "Average Accuracy: 0.7452800750732422\n"
          ]
        }
      ],
      "source": [
        "accuracies = [model.history.history['val_accuracy'][-1] for model in trained_models]\n",
        "\n",
        "print('Average Accuracy: {}'.format(np.mean(accuracies)))"
      ]
    },
    {
      "attachments": {},
      "cell_type": "markdown",
      "metadata": {},
      "source": [
        "##### Multi-layered LSTM"
      ]
    },
    {
      "cell_type": "code",
      "execution_count": 19,
      "metadata": {},
      "outputs": [
        {
          "name": "stdout",
          "output_type": "stream",
          "text": [
            "Fold 0\n",
            "Train Subjects: [0 2 3 4 5 6 8 9]\n",
            "Test Subjects: [1 7]\n",
            "Epoch 1/4\n",
            "11676/11676 [==============================] - 110s 9ms/step - loss: 0.3025 - accuracy: 0.8339 - val_loss: 1.9176 - val_accuracy: 0.7835\n",
            "Epoch 2/4\n",
            "11676/11676 [==============================] - 124s 11ms/step - loss: 0.3295 - accuracy: 0.8206 - val_loss: 1.9639 - val_accuracy: 0.7835\n",
            "\n",
            "\n",
            "Fold 1\n",
            "Train Subjects: [0 1 2 4 5 6 7 9]\n",
            "Test Subjects: [3 8]\n",
            "Epoch 1/4\n",
            "11765/11765 [==============================] - 158s 13ms/step - loss: 0.3270 - accuracy: 0.8171 - val_loss: 1.9297 - val_accuracy: 0.7736\n",
            "Epoch 2/4\n",
            "11765/11765 [==============================] - 166s 14ms/step - loss: 0.3446 - accuracy: 0.8043 - val_loss: 2.3116 - val_accuracy: 0.7736\n",
            "\n",
            "\n",
            "Fold 2\n",
            "Train Subjects: [0 1 2 3 5 6 7 8]\n",
            "Test Subjects: [4 9]\n",
            "Epoch 1/4\n",
            "11634/11634 [==============================] - 162s 14ms/step - loss: 0.3316 - accuracy: 0.8059 - val_loss: 2.7158 - val_accuracy: 0.6863\n",
            "Epoch 2/4\n",
            "11634/11634 [==============================] - 156s 13ms/step - loss: 0.3435 - accuracy: 0.8041 - val_loss: 3.2217 - val_accuracy: 0.6863\n",
            "\n",
            "\n",
            "Fold 3\n",
            "Train Subjects: [1 3 4 5 6 7 8 9]\n",
            "Test Subjects: [0 2]\n",
            "Epoch 1/4\n",
            "13214/13214 [==============================] - 161s 12ms/step - loss: 0.3263 - accuracy: 0.8054 - val_loss: 2.5643 - val_accuracy: 0.7118\n",
            "Epoch 2/4\n",
            "13214/13214 [==============================] - 139s 11ms/step - loss: 0.3531 - accuracy: 0.7960 - val_loss: 2.8492 - val_accuracy: 0.7118\n",
            "\n",
            "\n",
            "Fold 4\n",
            "Train Subjects: [0 1 2 3 4 7 8 9]\n",
            "Test Subjects: [5 6]\n",
            "Epoch 1/4\n",
            "11698/11698 [==============================] - 138s 12ms/step - loss: 0.3110 - accuracy: 0.8265 - val_loss: 2.2910 - val_accuracy: 0.7328\n",
            "Epoch 2/4\n",
            "11698/11698 [==============================] - 148s 13ms/step - loss: 0.3257 - accuracy: 0.8240 - val_loss: 2.4858 - val_accuracy: 0.7328\n",
            "\n",
            "\n"
          ]
        }
      ],
      "source": [
        "from sklearn.model_selection import KFold\n",
        "\n",
        "n_folds = 5\n",
        "seq_length = 5\n",
        "\n",
        "trained_models = []\n",
        "model_histories = []\n",
        "\n",
        "subject_kfold = KFold(n_splits=n_folds, shuffle=True)\n",
        "\n",
        "for fold, (train_subjects, test_subjects) in enumerate(subject_kfold.split(df['Subject'].unique())):\n",
        "    print('Fold {}'.format(fold))\n",
        "    print('Train Subjects: {}'.format(train_subjects))\n",
        "    print('Test Subjects: {}'.format(test_subjects))\n",
        "\n",
        "    train_data = df[df['Subject'].isin(train_subjects)]\n",
        "    test_data = df[df['Subject'].isin(test_subjects)]\n",
        "\n",
        "    train_dataset = keras.utils.timeseries_dataset_from_array(\n",
        "      train_data,\n",
        "      targets=train_data['Label'],\n",
        "      sampling_rate=1,\n",
        "      sequence_length=seq_length,\n",
        "    )\n",
        "\n",
        "    test_dataset = keras.utils.timeseries_dataset_from_array(\n",
        "      test_data,\n",
        "      targets=test_data['Label'],\n",
        "      sampling_rate=1,\n",
        "      sequence_length=seq_length,\n",
        "    )\n",
        "    \n",
        "    model = ml.create_lstm_dropout_model((seq_length, len(df.columns)))\n",
        "\n",
        "    early_stop = EarlyStopping(monitor='val_accuracy', patience=1)\n",
        "\n",
        "    model_hist = model.fit(train_dataset, validation_data=(test_dataset), epochs=4, callbacks=[early_stop])\n",
        "    \n",
        "    trained_models.append(model)\n",
        "    model_histories.append(model_hist)\n",
        "\n",
        "    print('\\n')\n"
      ]
    },
    {
      "cell_type": "code",
      "execution_count": 20,
      "metadata": {},
      "outputs": [
        {
          "name": "stdout",
          "output_type": "stream",
          "text": [
            "Average Accuracy: 0.7376067757606506\n"
          ]
        }
      ],
      "source": [
        "lstm_dropout_accuracies = [model.history.history['val_accuracy'][-1] for model in trained_models]\n",
        "\n",
        "print('Average Accuracy: {}'.format(np.mean(lstm_dropout_accuracies)))"
      ]
    },
    {
      "attachments": {},
      "cell_type": "markdown",
      "metadata": {},
      "source": [
        "#### Removing potentially unnecessary features"
      ]
    },
    {
      "cell_type": "code",
      "execution_count": 9,
      "metadata": {},
      "outputs": [
        {
          "data": {
            "text/html": [
              "<div>\n",
              "<style scoped>\n",
              "    .dataframe tbody tr th:only-of-type {\n",
              "        vertical-align: middle;\n",
              "    }\n",
              "\n",
              "    .dataframe tbody tr th {\n",
              "        vertical-align: top;\n",
              "    }\n",
              "\n",
              "    .dataframe thead th {\n",
              "        text-align: right;\n",
              "    }\n",
              "</style>\n",
              "<table border=\"1\" class=\"dataframe\">\n",
              "  <thead>\n",
              "    <tr style=\"text-align: right;\">\n",
              "      <th></th>\n",
              "      <th>Timestamp</th>\n",
              "      <th>Subject</th>\n",
              "      <th>HR</th>\n",
              "      <th>EDA</th>\n",
              "      <th>TEMP</th>\n",
              "      <th>BVP</th>\n",
              "      <th>Label</th>\n",
              "    </tr>\n",
              "  </thead>\n",
              "  <tbody>\n",
              "    <tr>\n",
              "      <th>0</th>\n",
              "      <td>1.644226e+12</td>\n",
              "      <td>1.0</td>\n",
              "      <td>83.0</td>\n",
              "      <td>0.0</td>\n",
              "      <td>28.39</td>\n",
              "      <td>0.0</td>\n",
              "      <td>0.0</td>\n",
              "    </tr>\n",
              "    <tr>\n",
              "      <th>1</th>\n",
              "      <td>1.644226e+12</td>\n",
              "      <td>1.0</td>\n",
              "      <td>83.0</td>\n",
              "      <td>0.0</td>\n",
              "      <td>28.39</td>\n",
              "      <td>0.0</td>\n",
              "      <td>0.0</td>\n",
              "    </tr>\n",
              "    <tr>\n",
              "      <th>2</th>\n",
              "      <td>1.644226e+12</td>\n",
              "      <td>1.0</td>\n",
              "      <td>83.0</td>\n",
              "      <td>0.0</td>\n",
              "      <td>28.39</td>\n",
              "      <td>0.0</td>\n",
              "      <td>0.0</td>\n",
              "    </tr>\n",
              "    <tr>\n",
              "      <th>3</th>\n",
              "      <td>1.644226e+12</td>\n",
              "      <td>1.0</td>\n",
              "      <td>83.0</td>\n",
              "      <td>0.0</td>\n",
              "      <td>28.39</td>\n",
              "      <td>0.0</td>\n",
              "      <td>0.0</td>\n",
              "    </tr>\n",
              "    <tr>\n",
              "      <th>4</th>\n",
              "      <td>1.644226e+12</td>\n",
              "      <td>1.0</td>\n",
              "      <td>83.0</td>\n",
              "      <td>0.0</td>\n",
              "      <td>28.39</td>\n",
              "      <td>0.0</td>\n",
              "      <td>0.0</td>\n",
              "    </tr>\n",
              "  </tbody>\n",
              "</table>\n",
              "</div>"
            ],
            "text/plain": [
              "      Timestamp  Subject    HR  EDA   TEMP  BVP  Label\n",
              "0  1.644226e+12      1.0  83.0  0.0  28.39  0.0    0.0\n",
              "1  1.644226e+12      1.0  83.0  0.0  28.39  0.0    0.0\n",
              "2  1.644226e+12      1.0  83.0  0.0  28.39  0.0    0.0\n",
              "3  1.644226e+12      1.0  83.0  0.0  28.39  0.0    0.0\n",
              "4  1.644226e+12      1.0  83.0  0.0  28.39  0.0    0.0"
            ]
          },
          "execution_count": 9,
          "metadata": {},
          "output_type": "execute_result"
        }
      ],
      "source": [
        "# Remove the accelerometer data from the dataframe (X, Y, Z)\n",
        "df_no_accel = df.drop(columns=['X', 'Y', 'Z'], axis=1)\n",
        "\n",
        "df_no_accel.head()"
      ]
    },
    {
      "cell_type": "code",
      "execution_count": 10,
      "metadata": {},
      "outputs": [
        {
          "name": "stdout",
          "output_type": "stream",
          "text": [
            "Fold 0\n",
            "Train Subjects: [0 2 4 5 6 7 8 9]\n",
            "Test Subjects: [1 3]\n",
            "Accuracy: 0.7503152525226139\n",
            "\n",
            "\n",
            "Fold 1\n",
            "Train Subjects: [0 1 2 3 6 7 8 9]\n",
            "Test Subjects: [4 5]\n",
            "Accuracy: 0.7583334861291919\n",
            "\n",
            "\n",
            "Fold 2\n",
            "Train Subjects: [0 1 3 4 5 6 7 9]\n",
            "Test Subjects: [2 8]\n",
            "Accuracy: 0.7345796307680843\n",
            "\n",
            "\n",
            "Fold 3\n",
            "Train Subjects: [0 1 2 3 4 5 6 8]\n",
            "Test Subjects: [7 9]\n",
            "Accuracy: 0.7482551429557271\n",
            "\n",
            "\n",
            "Fold 4\n",
            "Train Subjects: [1 2 3 4 5 7 8 9]\n",
            "Test Subjects: [0 6]\n",
            "Accuracy: 0.67566447919707\n",
            "\n",
            "\n"
          ]
        }
      ],
      "source": [
        "lr_no_accel_scores = ml.run_logistic_regression_kfold_cross_validation(df_no_accel)"
      ]
    },
    {
      "cell_type": "code",
      "execution_count": 11,
      "metadata": {},
      "outputs": [
        {
          "name": "stdout",
          "output_type": "stream",
          "text": [
            "Average Accuracy: 0.7334295983145375\n"
          ]
        }
      ],
      "source": [
        "print('Average Accuracy: {}'.format(np.mean(lr_no_accel_scores)))"
      ]
    },
    {
      "cell_type": "code",
      "execution_count": 12,
      "metadata": {},
      "outputs": [
        {
          "data": {
            "text/html": [
              "<div>\n",
              "<style scoped>\n",
              "    .dataframe tbody tr th:only-of-type {\n",
              "        vertical-align: middle;\n",
              "    }\n",
              "\n",
              "    .dataframe tbody tr th {\n",
              "        vertical-align: top;\n",
              "    }\n",
              "\n",
              "    .dataframe thead th {\n",
              "        text-align: right;\n",
              "    }\n",
              "</style>\n",
              "<table border=\"1\" class=\"dataframe\">\n",
              "  <thead>\n",
              "    <tr style=\"text-align: right;\">\n",
              "      <th></th>\n",
              "      <th>X</th>\n",
              "      <th>Y</th>\n",
              "      <th>Z</th>\n",
              "      <th>Timestamp</th>\n",
              "      <th>Subject</th>\n",
              "      <th>HR</th>\n",
              "      <th>EDA</th>\n",
              "      <th>TEMP</th>\n",
              "      <th>Label</th>\n",
              "    </tr>\n",
              "  </thead>\n",
              "  <tbody>\n",
              "    <tr>\n",
              "      <th>0</th>\n",
              "      <td>-2.0</td>\n",
              "      <td>43.0</td>\n",
              "      <td>43.0</td>\n",
              "      <td>1.644226e+12</td>\n",
              "      <td>1.0</td>\n",
              "      <td>83.0</td>\n",
              "      <td>0.0</td>\n",
              "      <td>28.39</td>\n",
              "      <td>0.0</td>\n",
              "    </tr>\n",
              "    <tr>\n",
              "      <th>1</th>\n",
              "      <td>-2.0</td>\n",
              "      <td>44.0</td>\n",
              "      <td>46.0</td>\n",
              "      <td>1.644226e+12</td>\n",
              "      <td>1.0</td>\n",
              "      <td>83.0</td>\n",
              "      <td>0.0</td>\n",
              "      <td>28.39</td>\n",
              "      <td>0.0</td>\n",
              "    </tr>\n",
              "    <tr>\n",
              "      <th>2</th>\n",
              "      <td>2.0</td>\n",
              "      <td>44.0</td>\n",
              "      <td>47.0</td>\n",
              "      <td>1.644226e+12</td>\n",
              "      <td>1.0</td>\n",
              "      <td>83.0</td>\n",
              "      <td>0.0</td>\n",
              "      <td>28.39</td>\n",
              "      <td>0.0</td>\n",
              "    </tr>\n",
              "    <tr>\n",
              "      <th>3</th>\n",
              "      <td>3.0</td>\n",
              "      <td>43.0</td>\n",
              "      <td>44.0</td>\n",
              "      <td>1.644226e+12</td>\n",
              "      <td>1.0</td>\n",
              "      <td>83.0</td>\n",
              "      <td>0.0</td>\n",
              "      <td>28.39</td>\n",
              "      <td>0.0</td>\n",
              "    </tr>\n",
              "    <tr>\n",
              "      <th>4</th>\n",
              "      <td>1.0</td>\n",
              "      <td>43.0</td>\n",
              "      <td>45.0</td>\n",
              "      <td>1.644226e+12</td>\n",
              "      <td>1.0</td>\n",
              "      <td>83.0</td>\n",
              "      <td>0.0</td>\n",
              "      <td>28.39</td>\n",
              "      <td>0.0</td>\n",
              "    </tr>\n",
              "  </tbody>\n",
              "</table>\n",
              "</div>"
            ],
            "text/plain": [
              "     X     Y     Z     Timestamp  Subject    HR  EDA   TEMP  Label\n",
              "0 -2.0  43.0  43.0  1.644226e+12      1.0  83.0  0.0  28.39    0.0\n",
              "1 -2.0  44.0  46.0  1.644226e+12      1.0  83.0  0.0  28.39    0.0\n",
              "2  2.0  44.0  47.0  1.644226e+12      1.0  83.0  0.0  28.39    0.0\n",
              "3  3.0  43.0  44.0  1.644226e+12      1.0  83.0  0.0  28.39    0.0\n",
              "4  1.0  43.0  45.0  1.644226e+12      1.0  83.0  0.0  28.39    0.0"
            ]
          },
          "execution_count": 12,
          "metadata": {},
          "output_type": "execute_result"
        }
      ],
      "source": [
        "# Remove the BVP data from the dataframe\n",
        "df_no_bvp = df.drop(columns=['BVP'], axis=1)\n",
        "\n",
        "df_no_bvp.head()"
      ]
    },
    {
      "cell_type": "code",
      "execution_count": 13,
      "metadata": {},
      "outputs": [
        {
          "name": "stdout",
          "output_type": "stream",
          "text": [
            "Fold 0\n",
            "Train Subjects: [0 1 3 4 5 7 8 9]\n",
            "Test Subjects: [2 6]\n",
            "Accuracy: 0.6943790030821747\n",
            "\n",
            "\n",
            "Fold 1\n",
            "Train Subjects: [0 2 3 4 6 7 8 9]\n",
            "Test Subjects: [1 5]\n",
            "Accuracy: 0.7523489098955297\n",
            "\n",
            "\n",
            "Fold 2\n",
            "Train Subjects: [1 2 3 4 5 6 8 9]\n",
            "Test Subjects: [0 7]\n",
            "Accuracy: 0.8507451647498243\n",
            "\n",
            "\n",
            "Fold 3\n",
            "Train Subjects: [0 1 2 3 5 6 7 9]\n",
            "Test Subjects: [4 8]\n",
            "Accuracy: 0.7434354626441416\n",
            "\n",
            "\n",
            "Fold 4\n",
            "Train Subjects: [0 1 2 4 5 6 7 8]\n",
            "Test Subjects: [3 9]\n",
            "Accuracy: 0.7143529762205039\n",
            "\n",
            "\n"
          ]
        }
      ],
      "source": [
        "lr_no_bvp_scores = ml.run_logistic_regression_kfold_cross_validation(df_no_bvp)"
      ]
    },
    {
      "cell_type": "code",
      "execution_count": 14,
      "metadata": {},
      "outputs": [
        {
          "name": "stdout",
          "output_type": "stream",
          "text": [
            "Average Accuracy: 0.7510523033184348\n"
          ]
        }
      ],
      "source": [
        "print('Average Accuracy: {}'.format(np.mean(lr_no_bvp_scores)))"
      ]
    }
  ],
  "metadata": {
    "colab": {
      "provenance": []
    },
    "kernelspec": {
      "display_name": "ds",
      "language": "python",
      "name": "python3"
    },
    "language_info": {
      "codemirror_mode": {
        "name": "ipython",
        "version": 3
      },
      "file_extension": ".py",
      "mimetype": "text/x-python",
      "name": "python",
      "nbconvert_exporter": "python",
      "pygments_lexer": "ipython3",
      "version": "3.10.9"
    },
    "orig_nbformat": 4,
    "vscode": {
      "interpreter": {
        "hash": "c2ba12efc07c7cce43dfb0e1274711140a4092e1cfc39840805126e53ef824d1"
      }
    }
  },
  "nbformat": 4,
  "nbformat_minor": 0
}
