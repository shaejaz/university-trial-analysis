{
 "cells": [
  {
   "cell_type": "code",
   "execution_count": 5,
   "metadata": {},
   "outputs": [],
   "source": [
    "import pandas as pd\n",
    "import matplotlib\n",
    "import matplotlib.pyplot as plt\n",
    "from helpers import dataframe"
   ]
  },
  {
   "cell_type": "code",
   "execution_count": 6,
   "metadata": {},
   "outputs": [],
   "source": [
    "base_url = \"https://raw.githubusercontent.com/italha-d/Stress-Predict-Dataset/main/Raw_data\"\n",
    "\n",
    "subjects = [\"S01\", \"S02\", \"S03\"]\n",
    "\n",
    "fetch_objects = dataframe.generate_fetch_objects(base_url, subjects)"
   ]
  },
  {
   "cell_type": "code",
   "execution_count": 7,
   "metadata": {},
   "outputs": [],
   "source": [
    "acc_df, hr_df, eda_df, temp_df, bvp_df = dataframe.concatenate_dataframe_from_fetch_objects(fetch_objects)\n",
    "\n",
    "df = dataframe.combine_dataframe(acc_df, hr_df, eda_df, temp_df, bvp_df)\n",
    "\n",
    "df = dataframe.fill_missing_values(df)"
   ]
  },
  {
   "cell_type": "code",
   "execution_count": 11,
   "metadata": {},
   "outputs": [],
   "source": [
    "tags_object = dataframe.generate_tag_objects(base_url, subjects)\n",
    "\n",
    "timestamps = dataframe.fetch_timestamps_from_tag_objects(tags_object)\n",
    "\n",
    "df = dataframe.label_dataframe_from_timestamps(df, timestamps)"
   ]
  },
  {
   "cell_type": "code",
   "execution_count": 13,
   "metadata": {},
   "outputs": [],
   "source": [
    "df.to_csv(\"data.csv\", index=False)"
   ]
  }
 ],
 "metadata": {
  "kernelspec": {
   "display_name": "ds",
   "language": "python",
   "name": "python3"
  },
  "language_info": {
   "codemirror_mode": {
    "name": "ipython",
    "version": 3
   },
   "file_extension": ".py",
   "mimetype": "text/x-python",
   "name": "python",
   "nbconvert_exporter": "python",
   "pygments_lexer": "ipython3",
   "version": "3.10.9"
  },
  "orig_nbformat": 4,
  "vscode": {
   "interpreter": {
    "hash": "c2ba12efc07c7cce43dfb0e1274711140a4092e1cfc39840805126e53ef824d1"
   }
  }
 },
 "nbformat": 4,
 "nbformat_minor": 2
}
